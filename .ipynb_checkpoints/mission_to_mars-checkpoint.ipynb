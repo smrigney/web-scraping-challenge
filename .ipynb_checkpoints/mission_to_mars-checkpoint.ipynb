{
 "cells": [
  {
   "cell_type": "code",
   "execution_count": 40,
   "id": "e039e74b",
   "metadata": {},
   "outputs": [],
   "source": [
    " # Dependencies\n",
    "from bs4 import BeautifulSoup\n",
    "import requests\n",
    "from splinter import Browser\n",
    "from webdriver_manager.chrome import ChromeDriverManager\n",
    "import pandas as pd"
   ]
  },
  {
   "cell_type": "code",
   "execution_count": 41,
   "id": "a7037dea",
   "metadata": {},
   "outputs": [
    {
     "name": "stderr",
     "output_type": "stream",
     "text": [
      "\n",
      "\n",
      "====== WebDriver manager ======\n",
      "Current google-chrome version is 94.0.4606\n",
      "Get LATEST driver version for 94.0.4606\n",
      "Driver [C:\\Users\\Steph\\.wdm\\drivers\\chromedriver\\win32\\94.0.4606.61\\chromedriver.exe] found in cache\n"
     ]
    }
   ],
   "source": [
    "# Setup splinter\n",
    "executable_path = {'executable_path': ChromeDriverManager().install()}\n",
    "browser = Browser('chrome', **executable_path, headless=False)"
   ]
  },
  {
   "cell_type": "code",
   "execution_count": 42,
   "id": "dfcd9aec",
   "metadata": {},
   "outputs": [
    {
     "data": {
      "text/plain": [
       "'https://spaceimages-mars.com/image/featured/mars1.jpg'"
      ]
     },
     "execution_count": 42,
     "metadata": {},
     "output_type": "execute_result"
    }
   ],
   "source": [
    "browser.visit('https://spaceimages-mars.com/')\n",
    "html = browser.html\n",
    "soup = BeautifulSoup(html, 'html.parser')\n",
    "\n",
    "pic = soup.find('a',class_='fancybox-thumbs',href=True)\n",
    "final_pic = 'https://spaceimages-mars.com/'+pic['href']\n",
    "final_pic"
   ]
  },
  {
   "cell_type": "code",
   "execution_count": 43,
   "id": "6e479f66",
   "metadata": {},
   "outputs": [
    {
     "name": "stdout",
     "output_type": "stream",
     "text": [
      "('Title:', 'Mars 2020 Stands on Its Own Six Wheels')\n",
      "('Teaser:', \"In time-lapse video, taken at JPL, captures the first time NASA's Mars 2020 rover carries its full weight on its legs and wheels.\")\n"
     ]
    }
   ],
   "source": [
    "browser.visit('https://redplanetscience.com/')\n",
    "html = browser.html\n",
    "soup = BeautifulSoup(html, 'html.parser')\n",
    "\n",
    "title = soup.find_all('div', 'content_title')\n",
    "para = soup.find_all('div', 'article_teaser_body')\n",
    "final_title = 'Title:', title[0].text\n",
    "final_teaser = 'Teaser:', para[0].text\n",
    "\n",
    "print(final_title)\n",
    "print(final_teaser)"
   ]
  },
  {
   "cell_type": "code",
   "execution_count": 45,
   "id": "51d441fc",
   "metadata": {},
   "outputs": [
    {
     "data": {
      "text/html": [
       "<div>\n",
       "<style scoped>\n",
       "    .dataframe tbody tr th:only-of-type {\n",
       "        vertical-align: middle;\n",
       "    }\n",
       "\n",
       "    .dataframe tbody tr th {\n",
       "        vertical-align: top;\n",
       "    }\n",
       "\n",
       "    .dataframe thead th {\n",
       "        text-align: right;\n",
       "    }\n",
       "</style>\n",
       "<table border=\"1\" class=\"dataframe\">\n",
       "  <thead>\n",
       "    <tr style=\"text-align: right;\">\n",
       "      <th></th>\n",
       "      <th>Description</th>\n",
       "      <th>Value</th>\n",
       "    </tr>\n",
       "  </thead>\n",
       "  <tbody>\n",
       "    <tr>\n",
       "      <th>0</th>\n",
       "      <td>Equatorial Diameter:</td>\n",
       "      <td>6,792 km</td>\n",
       "    </tr>\n",
       "    <tr>\n",
       "      <th>1</th>\n",
       "      <td>Polar Diameter:</td>\n",
       "      <td>6,752 km</td>\n",
       "    </tr>\n",
       "    <tr>\n",
       "      <th>2</th>\n",
       "      <td>Mass:</td>\n",
       "      <td>6.39 × 10^23 kg (0.11 Earths)</td>\n",
       "    </tr>\n",
       "    <tr>\n",
       "      <th>3</th>\n",
       "      <td>Moons:</td>\n",
       "      <td>2 (Phobos &amp; Deimos)</td>\n",
       "    </tr>\n",
       "    <tr>\n",
       "      <th>4</th>\n",
       "      <td>Orbit Distance:</td>\n",
       "      <td>227,943,824 km (1.38 AU)</td>\n",
       "    </tr>\n",
       "    <tr>\n",
       "      <th>5</th>\n",
       "      <td>Orbit Period:</td>\n",
       "      <td>687 days (1.9 years)</td>\n",
       "    </tr>\n",
       "    <tr>\n",
       "      <th>6</th>\n",
       "      <td>Surface Temperature:</td>\n",
       "      <td>-87 to -5 °C</td>\n",
       "    </tr>\n",
       "    <tr>\n",
       "      <th>7</th>\n",
       "      <td>First Record:</td>\n",
       "      <td>2nd millennium BC</td>\n",
       "    </tr>\n",
       "    <tr>\n",
       "      <th>8</th>\n",
       "      <td>Recorded By:</td>\n",
       "      <td>Egyptian astronomers</td>\n",
       "    </tr>\n",
       "  </tbody>\n",
       "</table>\n",
       "</div>"
      ],
      "text/plain": [
       "            Description                          Value\n",
       "0  Equatorial Diameter:                       6,792 km\n",
       "1       Polar Diameter:                       6,752 km\n",
       "2                 Mass:  6.39 × 10^23 kg (0.11 Earths)\n",
       "3                Moons:            2 (Phobos & Deimos)\n",
       "4       Orbit Distance:       227,943,824 km (1.38 AU)\n",
       "5         Orbit Period:           687 days (1.9 years)\n",
       "6  Surface Temperature:                   -87 to -5 °C\n",
       "7         First Record:              2nd millennium BC\n",
       "8          Recorded By:           Egyptian astronomers"
      ]
     },
     "execution_count": 45,
     "metadata": {},
     "output_type": "execute_result"
    }
   ],
   "source": [
    "browser.visit('https://space-facts.com/mars/')\n",
    "\n",
    "html = browser.html\n",
    "\n",
    "table = pd.read_html(html)\n",
    "\n",
    "facts_df = table[0]\n",
    "facts_df.columns =['Description', 'Value']\n",
    "facts_df"
   ]
  },
  {
   "cell_type": "code",
   "execution_count": null,
   "id": "78e8ee55",
   "metadata": {},
   "outputs": [],
   "source": [
    "facts_df.to_html('mars_facts_table.html', index=False)"
   ]
  },
  {
   "cell_type": "code",
   "execution_count": 29,
   "id": "feec07df",
   "metadata": {},
   "outputs": [
    {
     "data": {
      "text/plain": [
       "[{'title': 'Cerberus Hemisphere Enhanced',\n",
       "  'img_url': 'https://marshemispheres.com/images/f5e372a36edfa389625da6d0cc25d905_cerberus_enhanced.tif_full.jpg'}]"
      ]
     },
     "execution_count": 29,
     "metadata": {},
     "output_type": "execute_result"
    }
   ],
   "source": [
    "marshemi = []\n",
    "\n",
    "browser.visit('https://marshemispheres.com/cerberus.html')\n",
    "html = browser.html\n",
    "soup = BeautifulSoup(html, 'html.parser')\n",
    "\n",
    "srcs = soup.find_all('img', 'wide-image')\n",
    "title = soup.find('h2', 'title').text\n",
    "\n",
    "for img in srcs:\n",
    "    if img.has_attr('src'):\n",
    "        marshemi.append({'title': title, 'img_url': 'https://marshemispheres.com/'+img['src']})\n",
    "        #print('https://marshemispheres.com/'+img['src'])\n",
    "\n",
    "marshemi"
   ]
  },
  {
   "cell_type": "code",
   "execution_count": 30,
   "id": "e3be14f5",
   "metadata": {},
   "outputs": [
    {
     "data": {
      "text/plain": [
       "[{'title': 'Cerberus Hemisphere Enhanced',\n",
       "  'img_url': 'https://marshemispheres.com/images/f5e372a36edfa389625da6d0cc25d905_cerberus_enhanced.tif_full.jpg'},\n",
       " {'title': 'Schiaparelli Hemisphere Enhanced',\n",
       "  'img_url': 'https://marshemispheres.com/images/3778f7b43bbbc89d6e3cfabb3613ba93_schiaparelli_enhanced.tif_full.jpg'}]"
      ]
     },
     "execution_count": 30,
     "metadata": {},
     "output_type": "execute_result"
    }
   ],
   "source": [
    "browser.visit('https://marshemispheres.com/schiaparelli.html')\n",
    "html = browser.html\n",
    "soup = BeautifulSoup(html, 'html.parser')\n",
    "\n",
    "srcs = soup.find_all('img', 'wide-image')\n",
    "title = soup.find('h2', 'title').text\n",
    "\n",
    "for img in srcs:\n",
    "    if img.has_attr('src'):\n",
    "        marshemi.append({'title': title, 'img_url': 'https://marshemispheres.com/'+img['src']})\n",
    "        #print('https://marshemispheres.com/'+img['src'])\n",
    "        \n",
    "marshemi"
   ]
  },
  {
   "cell_type": "code",
   "execution_count": 31,
   "id": "05de4523",
   "metadata": {},
   "outputs": [
    {
     "data": {
      "text/plain": [
       "[{'title': 'Cerberus Hemisphere Enhanced',\n",
       "  'img_url': 'https://marshemispheres.com/images/f5e372a36edfa389625da6d0cc25d905_cerberus_enhanced.tif_full.jpg'},\n",
       " {'title': 'Schiaparelli Hemisphere Enhanced',\n",
       "  'img_url': 'https://marshemispheres.com/images/3778f7b43bbbc89d6e3cfabb3613ba93_schiaparelli_enhanced.tif_full.jpg'},\n",
       " {'title': 'Syrtis Major Hemisphere Enhanced',\n",
       "  'img_url': 'https://marshemispheres.com/images/555e6403a6ddd7ba16ddb0e471cadcf7_syrtis_major_enhanced.tif_full.jpg'}]"
      ]
     },
     "execution_count": 31,
     "metadata": {},
     "output_type": "execute_result"
    }
   ],
   "source": [
    "browser.visit('https://marshemispheres.com/syrtis.html')\n",
    "html = browser.html\n",
    "soup = BeautifulSoup(html, 'html.parser')\n",
    "\n",
    "srcs = soup.find_all('img', 'wide-image')\n",
    "title = soup.find('h2', 'title').text\n",
    "\n",
    "for img in srcs:\n",
    "    if img.has_attr('src'):\n",
    "        marshemi.append({'title': title, 'img_url': 'https://marshemispheres.com/'+img['src']})\n",
    "        #print('https://marshemispheres.com/'+img['src'])\n",
    "        \n",
    "marshemi"
   ]
  },
  {
   "cell_type": "code",
   "execution_count": 32,
   "id": "0ecd716c",
   "metadata": {},
   "outputs": [
    {
     "data": {
      "text/plain": [
       "[{'title': 'Cerberus Hemisphere Enhanced',\n",
       "  'img_url': 'https://marshemispheres.com/images/f5e372a36edfa389625da6d0cc25d905_cerberus_enhanced.tif_full.jpg'},\n",
       " {'title': 'Schiaparelli Hemisphere Enhanced',\n",
       "  'img_url': 'https://marshemispheres.com/images/3778f7b43bbbc89d6e3cfabb3613ba93_schiaparelli_enhanced.tif_full.jpg'},\n",
       " {'title': 'Syrtis Major Hemisphere Enhanced',\n",
       "  'img_url': 'https://marshemispheres.com/images/555e6403a6ddd7ba16ddb0e471cadcf7_syrtis_major_enhanced.tif_full.jpg'},\n",
       " {'title': 'Valles Marineris Hemisphere Enhanced',\n",
       "  'img_url': 'https://marshemispheres.com/images/b3c7c6c9138f57b4756be9b9c43e3a48_valles_marineris_enhanced.tif_full.jpg'}]"
      ]
     },
     "execution_count": 32,
     "metadata": {},
     "output_type": "execute_result"
    }
   ],
   "source": [
    "browser.visit('https://marshemispheres.com/valles.html')\n",
    "html = browser.html\n",
    "soup = BeautifulSoup(html, 'html.parser')\n",
    "\n",
    "srcs = soup.find_all('img', 'wide-image')\n",
    "title = soup.find('h2', 'title').text\n",
    "\n",
    "for img in srcs:\n",
    "    if img.has_attr('src'):\n",
    "        marshemi.append({'title': title, 'img_url': 'https://marshemispheres.com/'+img['src']})\n",
    "        #print('https://marshemispheres.com/'+img['src'])\n",
    "        \n",
    "marshemi"
   ]
  },
  {
   "cell_type": "code",
   "execution_count": 33,
   "id": "545cebb8",
   "metadata": {},
   "outputs": [
    {
     "data": {
      "text/plain": [
       "{'Mars Picture URLS': ['https://spaceimages-mars.com/image/featured/mars1.jpg',\n",
       "  'https://spaceimages-mars.com/image/mars/Icaria Fossae7.jpg',\n",
       "  'https://spaceimages-mars.com/image/mars/Proctor Crater Dunes 7.jpg',\n",
       "  'https://spaceimages-mars.com/image/mars/Icaria Fossae7.jpg',\n",
       "  'https://spaceimages-mars.com/image/mars/Proctor Crater Dunes 7.jpg',\n",
       "  'https://spaceimages-mars.com/image/mars/Proctor Crater Dunes 7.jpg',\n",
       "  'https://spaceimages-mars.com/image/mars/Icaria Fossae7.jpg',\n",
       "  'https://spaceimages-mars.com/image/mars/Icaria Fossae.jpg',\n",
       "  'https://spaceimages-mars.com/image/mars/Ariadnes Colles4.jpg',\n",
       "  'https://spaceimages-mars.com/image/mars/Niger Vallis.jpg',\n",
       "  'https://spaceimages-mars.com/image/mars/Proctor Crater Dunes.jpg',\n",
       "  'https://spaceimages-mars.com/image/mars/Niger Vallis.jpg',\n",
       "  'https://spaceimages-mars.com/image/mars/Daedalia Planum.jpg',\n",
       "  'https://spaceimages-mars.com/image/mars/Sirenum Fossae.jpg',\n",
       "  'https://spaceimages-mars.com/image/mars/Ariadnes Colles4.jpg',\n",
       "  'https://spaceimages-mars.com/image/mars/South Polar Cap.jpg',\n",
       "  'https://spaceimages-mars.com/image/mars/Daedalia Planum.jpg',\n",
       "  'https://spaceimages-mars.com/image/mars/Ariadnes Colles3.jpg',\n",
       "  'https://spaceimages-mars.com/image/mars/Atlantis Chaos.jpg',\n",
       "  'https://spaceimages-mars.com/image/mars/Daedalia Planum.jpg',\n",
       "  'https://spaceimages-mars.com/image/mars/Icaria Fossae.jpg',\n",
       "  'https://spaceimages-mars.com/image/mars/Niger Vallis.jpg',\n",
       "  'https://spaceimages-mars.com/image/mars/Proctor Crater Dunes.jpg',\n",
       "  'https://spaceimages-mars.com/image/mars/Reull Vallis.jpg',\n",
       "  'https://spaceimages-mars.com/image/mars/Ariadnes Colles3.jpg',\n",
       "  'https://spaceimages-mars.com/image/mars/Sirenum Fossae.jpg',\n",
       "  'https://spaceimages-mars.com/image/mars/South Polar Cap.jpg',\n",
       "  'https://spaceimages-mars.com/image/mars/Niger Vallis.jpg',\n",
       "  'https://spaceimages-mars.com/image/mars/Daedalia Planum.jpg',\n",
       "  'https://spaceimages-mars.com/image/mars/Icaria Fossae.jpg',\n",
       "  'https://spaceimages-mars.com/image/mars/Ariadnes Colles4.jpg',\n",
       "  'https://spaceimages-mars.com/image/mars/South Polar Cap.jpg',\n",
       "  'https://spaceimages-mars.com/image/mars/Daedalia Planum.jpg'],\n",
       " 'Headline': ('Title:',\n",
       "  'Mars Scientists Investigate Ancient Life in Australia'),\n",
       " 'Teaser Paragraph': ('Teaser:',\n",
       "  \"Teams with NASA's Mars 2020 and ESA's ExoMars practiced hunting for fossilized microbial life in the Australian Outback in preparation for their Red Planet missions. \"),\n",
       " 'Mars Facts': None,\n",
       " 'Mars Hemisphere Pictures': [{'title': 'Cerberus Hemisphere Enhanced',\n",
       "   'img_url': 'https://marshemispheres.com/images/f5e372a36edfa389625da6d0cc25d905_cerberus_enhanced.tif_full.jpg'},\n",
       "  {'title': 'Schiaparelli Hemisphere Enhanced',\n",
       "   'img_url': 'https://marshemispheres.com/images/3778f7b43bbbc89d6e3cfabb3613ba93_schiaparelli_enhanced.tif_full.jpg'},\n",
       "  {'title': 'Syrtis Major Hemisphere Enhanced',\n",
       "   'img_url': 'https://marshemispheres.com/images/555e6403a6ddd7ba16ddb0e471cadcf7_syrtis_major_enhanced.tif_full.jpg'},\n",
       "  {'title': 'Valles Marineris Hemisphere Enhanced',\n",
       "   'img_url': 'https://marshemispheres.com/images/b3c7c6c9138f57b4756be9b9c43e3a48_valles_marineris_enhanced.tif_full.jpg'}]}"
      ]
     },
     "execution_count": 33,
     "metadata": {},
     "output_type": "execute_result"
    }
   ],
   "source": [
    "final_data = {\n",
    "    'Mars Picture URLS': picurls,\n",
    "    'Headline': final_title, \n",
    "    'Teaser Paragraph': final_teaser,\n",
    "    'Mars Facts': marsdf, \n",
    "    'Mars Hemisphere Pictures': marshemi\n",
    "}\n",
    "\n",
    "final_data"
   ]
  },
  {
   "cell_type": "code",
   "execution_count": null,
   "id": "143fc1f4",
   "metadata": {},
   "outputs": [],
   "source": []
  }
 ],
 "metadata": {
  "kernelspec": {
   "display_name": "Python 3",
   "language": "python",
   "name": "python3"
  },
  "language_info": {
   "codemirror_mode": {
    "name": "ipython",
    "version": 3
   },
   "file_extension": ".py",
   "mimetype": "text/x-python",
   "name": "python",
   "nbconvert_exporter": "python",
   "pygments_lexer": "ipython3",
   "version": "3.8.8"
  }
 },
 "nbformat": 4,
 "nbformat_minor": 5
}
